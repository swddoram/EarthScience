{
 "cells": [
  {
   "cell_type": "code",
   "execution_count": 9,
   "metadata": {},
   "outputs": [
    {
     "ename": "ValueError",
     "evalue": "setting an array element with a sequence. The requested array has an inhomogeneous shape after 1 dimensions. The detected shape was (14,) + inhomogeneous part.",
     "output_type": "error",
     "traceback": [
      "\u001b[0;31m---------------------------------------------------------------------------\u001b[0m",
      "\u001b[0;31mValueError\u001b[0m                                Traceback (most recent call last)",
      "\u001b[1;32m/Users/ddoram/Documents/GitHub/EarthScience/지구과학발표/Copy_code.ipynb 셀 1\u001b[0m line \u001b[0;36m8\n\u001b[1;32m      <a href='vscode-notebook-cell:/Users/ddoram/Documents/GitHub/EarthScience/%EC%A7%80%EA%B5%AC%EA%B3%BC%ED%95%99%EB%B0%9C%ED%91%9C/Copy_code.ipynb#W0sZmlsZQ%3D%3D?line=5'>6</a>\u001b[0m paths \u001b[39m=\u001b[39m glob\u001b[39m.\u001b[39mglob(\u001b[39m'\u001b[39m\u001b[39m./stones_png/*/*.png\u001b[39m\u001b[39m'\u001b[39m)\n\u001b[1;32m      <a href='vscode-notebook-cell:/Users/ddoram/Documents/GitHub/EarthScience/%EC%A7%80%EA%B5%AC%EA%B3%BC%ED%95%99%EB%B0%9C%ED%91%9C/Copy_code.ipynb#W0sZmlsZQ%3D%3D?line=6'>7</a>\u001b[0m paths \u001b[39m=\u001b[39m np\u001b[39m.\u001b[39mrandom\u001b[39m.\u001b[39mpermutation(paths)\n\u001b[0;32m----> <a href='vscode-notebook-cell:/Users/ddoram/Documents/GitHub/EarthScience/%EC%A7%80%EA%B5%AC%EA%B3%BC%ED%95%99%EB%B0%9C%ED%91%9C/Copy_code.ipynb#W0sZmlsZQ%3D%3D?line=7'>8</a>\u001b[0m 독립 \u001b[39m=\u001b[39m np\u001b[39m.\u001b[39marray([plt\u001b[39m.\u001b[39mimread(paths[i]) \u001b[39mfor\u001b[39;00m  i \u001b[39min\u001b[39;00m \u001b[39mrange\u001b[39m(\u001b[39mlen\u001b[39m(paths))])\n\u001b[1;32m      <a href='vscode-notebook-cell:/Users/ddoram/Documents/GitHub/EarthScience/%EC%A7%80%EA%B5%AC%EA%B3%BC%ED%95%99%EB%B0%9C%ED%91%9C/Copy_code.ipynb#W0sZmlsZQ%3D%3D?line=8'>9</a>\u001b[0m 종속 \u001b[39m=\u001b[39m np\u001b[39m.\u001b[39marray([paths[i]\u001b[39m.\u001b[39msplit(\u001b[39m'\u001b[39m\u001b[39m/\u001b[39m\u001b[39m'\u001b[39m)[\u001b[39m2\u001b[39m] \u001b[39mfor\u001b[39;00m i \u001b[39min\u001b[39;00m \u001b[39mrange\u001b[39m(\u001b[39mlen\u001b[39m(paths))])\n\u001b[1;32m     <a href='vscode-notebook-cell:/Users/ddoram/Documents/GitHub/EarthScience/%EC%A7%80%EA%B5%AC%EA%B3%BC%ED%95%99%EB%B0%9C%ED%91%9C/Copy_code.ipynb#W0sZmlsZQ%3D%3D?line=9'>10</a>\u001b[0m \u001b[39mprint\u001b[39m(독립\u001b[39m.\u001b[39mshape, 종속\u001b[39m.\u001b[39mshape)\n",
      "\u001b[0;31mValueError\u001b[0m: setting an array element with a sequence. The requested array has an inhomogeneous shape after 1 dimensions. The detected shape was (14,) + inhomogeneous part."
     ]
    }
   ],
   "source": [
    "import glob\n",
    "import numpy as np\n",
    "import pandas as pd\n",
    "import matplotlib.pyplot as plt\n",
    "\n",
    "paths = glob.glob('./stones_png/*/*.png')\n",
    "paths = np.random.permutation(paths)\n",
    "독립 = np.array([plt.imread(paths[i]) for  i in range(len(paths))])\n",
    "종속 = np.array([paths[i].split('/')[2] for i in range(len(paths))])\n",
    "print(독립.shape, 종속.shape)"
   ]
  },
  {
   "cell_type": "code",
   "execution_count": 11,
   "metadata": {},
   "outputs": [
    {
     "name": "stdout",
     "output_type": "stream",
     "text": [
      "(1, 194, 259, 3)\n"
     ]
    }
   ],
   "source": [
    "import glob\n",
    "import numpy as np\n",
    "import matplotlib.pyplot as plt\n",
    "\n",
    "paths = glob.glob('./stones_png/*/*.png')\n",
    "paths = np.random.permutation(paths)\n",
    "\n",
    "# 이미지를 저장할 리스트\n",
    "images = []\n",
    "# 모든 이미지를 동일한 크기로 조정하여 리스트에 추가\n",
    "for path in paths:\n",
    "    image = plt.imread(path)\n",
    "    if len(image.shape) == 3 and image.shape[2] == 3:  # RGB 이미지만 선택\n",
    "        images.append(image)\n",
    "\n",
    "# 이미지들이 모두 동일한 크기를 가지도록 변환\n",
    "min_shape = min(image.shape for image in images)\n",
    "images = [image for image in images if image.shape == min_shape]\n",
    "\n",
    "# NumPy 배열로 변환\n",
    "독립 = np.array(images)\n",
    "print(독립.shape)\n"
   ]
  },
  {
   "cell_type": "code",
   "execution_count": null,
   "metadata": {},
   "outputs": [],
   "source": [
    "독립 = 독립.reshape()"
   ]
  }
 ],
 "metadata": {
  "kernelspec": {
   "display_name": "base",
   "language": "python",
   "name": "python3"
  },
  "language_info": {
   "codemirror_mode": {
    "name": "ipython",
    "version": 3
   },
   "file_extension": ".py",
   "mimetype": "text/x-python",
   "name": "python",
   "nbconvert_exporter": "python",
   "pygments_lexer": "ipython3",
   "version": "3.11.5"
  }
 },
 "nbformat": 4,
 "nbformat_minor": 2
}
