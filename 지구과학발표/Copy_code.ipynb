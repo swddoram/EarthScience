{
 "cells": [
  {
   "cell_type": "code",
   "execution_count": 15,
   "metadata": {},
   "outputs": [
    {
     "name": "stdout",
     "output_type": "stream",
     "text": [
      "['./stones_reform/Basalt/basalt9.png' './stones_reform/Basalt/basalt4.png'\n",
      " './stones_reform/Basalt/basalt6.png' './stones_reform/Basalt/basalt8.png'\n",
      " './stones_reform/Basalt/basalt5.png' './stones_reform/Basalt/basalt1.png'\n",
      " './stones_reform/Basalt/basalt7.png' './stones_reform/Basalt/basalt2.png'\n",
      " './stones_reform/Basalt/basalt3.png' './stones_reform/Marble/marble3.png'\n",
      " './stones_reform/Marble/marble2.png' './stones_reform/Marble/marble1.png'\n",
      " './stones_reform/Basalt/basalt11.png'\n",
      " './stones_reform/Basalt/basalt10.png'\n",
      " './stones_reform/Marble/marble4.png']\n"
     ]
    },
    {
     "ename": "SyntaxError",
     "evalue": "not a PNG file (<string>)",
     "output_type": "error",
     "traceback": [
      "Traceback \u001b[0;36m(most recent call last)\u001b[0m:\n",
      "\u001b[0m  File \u001b[1;32m~/anaconda3/lib/python3.11/site-packages/IPython/core/interactiveshell.py:3526\u001b[0m in \u001b[1;35mrun_code\u001b[0m\n    exec(code_obj, self.user_global_ns, self.user_ns)\u001b[0m\n",
      "\u001b[0m  Cell \u001b[1;32mIn[15], line 9\u001b[0m\n    독립 = np.array([plt.imread(paths[0])])\u001b[0m\n",
      "\u001b[0m  File \u001b[1;32m~/anaconda3/lib/python3.11/site-packages/matplotlib/pyplot.py:2195\u001b[0m in \u001b[1;35mimread\u001b[0m\n    return matplotlib.image.imread(fname, format)\u001b[0m\n",
      "\u001b[0m  File \u001b[1;32m~/anaconda3/lib/python3.11/site-packages/matplotlib/image.py:1563\u001b[0m in \u001b[1;35mimread\u001b[0m\n    with img_open(fname) as image:\u001b[0m\n",
      "\u001b[0m  File \u001b[1;32m~/anaconda3/lib/python3.11/site-packages/PIL/ImageFile.py:117\u001b[0m in \u001b[1;35m__init__\u001b[0m\n    self._open()\u001b[0m\n",
      "\u001b[0;36m  File \u001b[0;32m~/anaconda3/lib/python3.11/site-packages/PIL/PngImagePlugin.py:732\u001b[0;36m in \u001b[0;35m_open\u001b[0;36m\n\u001b[0;31m    raise SyntaxError(msg)\u001b[0;36m\n",
      "\u001b[0;36m  File \u001b[0;32m<string>\u001b[0;36m\u001b[0m\n\u001b[0;31mSyntaxError\u001b[0m\u001b[0;31m:\u001b[0m not a PNG file\n"
     ]
    }
   ],
   "source": [
    "import glob\n",
    "import numpy as np\n",
    "import pandas as pd\n",
    "import matplotlib.pyplot as plt\n",
    "\n",
    "paths = glob.glob('./stones_reform/*/*.png')\n",
    "paths = np.random.permutation(paths)\n",
    "print(paths)\n",
    "독립 = np.array([plt.imread(paths[i]) for  i in range(len(paths))])\n",
    "종속 = np.array([paths[i].split('/')[2] for i in range(len(paths))])\n",
    "print(독립.shape, 종속.shape)"
   ]
  }
 ],
 "metadata": {
  "kernelspec": {
   "display_name": "base",
   "language": "python",
   "name": "python3"
  },
  "language_info": {
   "codemirror_mode": {
    "name": "ipython",
    "version": 3
   },
   "file_extension": ".py",
   "mimetype": "text/x-python",
   "name": "python",
   "nbconvert_exporter": "python",
   "pygments_lexer": "ipython3",
   "version": "3.11.5"
  }
 },
 "nbformat": 4,
 "nbformat_minor": 2
}
