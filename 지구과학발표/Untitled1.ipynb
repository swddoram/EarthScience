{
 "cells": [
  {
   "cell_type": "code",
   "execution_count": 209,
   "id": "12d0ac42",
   "metadata": {},
   "outputs": [],
   "source": [
    "import tensorflow as tf\n",
    "import pandas as pd\n",
    "from PIL import Image\n",
    "from PIL import ImageOps\n",
    "import numpy as np"
   ]
  },
  {
   "cell_type": "code",
   "execution_count": 210,
   "id": "c6a18b9b",
   "metadata": {},
   "outputs": [
    {
     "name": "stdout",
     "output_type": "stream",
     "text": [
      "(60000, 28, 28) (60000,)\n",
      "(50000, 32, 32, 3) (50000, 1)\n"
     ]
    }
   ],
   "source": [
    "(mnist_x, mnist_y), _ = tf.keras.datasets.mnist.load_data()\n",
    "print(mnist_x.shape, mnist_y.shape)\n",
    "\n",
    "(cifar_x, cifar_y), _ = tf.keras.datasets.cifar10.load_data()\n",
    "print(cifar_x.shape, cifar_y.shape)"
   ]
  },
  {
   "cell_type": "code",
   "execution_count": 211,
   "id": "66a27875",
   "metadata": {},
   "outputs": [
    {
     "name": "stdout",
     "output_type": "stream",
     "text": [
      "(60000, 28, 28) (60000,)\n",
      "(50000, 32, 32, 3) (50000, 1)\n"
     ]
    }
   ],
   "source": [
    "_ = tf.keras.datasets.mnist.load_data()\n",
    "print(mnist_x.shape, mnist_y.shape)\n",
    "\n",
    "(cifar_x, cifar_y), _ = tf.keras.datasets.cifar10.load_data()\n",
    "print(cifar_x.shape, cifar_y.shape)"
   ]
  },
  {
   "cell_type": "code",
   "execution_count": 212,
   "id": "9eb9563c",
   "metadata": {},
   "outputs": [
    {
     "name": "stdout",
     "output_type": "stream",
     "text": [
      "(60000, 28, 28) (60000,)\n",
      "(50000, 32, 32, 3) (50000, 1)\n"
     ]
    }
   ],
   "source": [
    "print(mnist_x.shape, mnist_y.shape)\n",
    "\n",
    "(cifar_x, cifar_y), _ = tf.keras.datasets.cifar10.load_data()\n",
    "print(cifar_x.shape, cifar_y.shape)"
   ]
  },
  {
   "cell_type": "code",
   "execution_count": 213,
   "id": "0d074197",
   "metadata": {},
   "outputs": [
    {
     "name": "stdout",
     "output_type": "stream",
     "text": [
      "(60000, 28, 28) (60000,)\n",
      "(50000, 32, 32, 3) (50000, 1)\n"
     ]
    }
   ],
   "source": [
    "print(mnist_x.shape, mnist_y.shape)\n",
    "\n",
    "(cifar_x, cifar_y), _ = tf.keras.datasets.cifar10.load_data()\n",
    "print(cifar_x.shape, cifar_y.shape)"
   ]
  },
  {
   "cell_type": "code",
   "execution_count": 214,
   "id": "71b1691f",
   "metadata": {},
   "outputs": [
    {
     "name": "stdout",
     "output_type": "stream",
     "text": [
      "[[6]\n",
      " [9]\n",
      " [9]\n",
      " [4]\n",
      " [1]\n",
      " [1]\n",
      " [2]\n",
      " [7]\n",
      " [8]\n",
      " [3]]\n"
     ]
    },
    {
     "data": {
      "text/plain": [
       "<matplotlib.image.AxesImage at 0x29e2a03d0>"
      ]
     },
     "execution_count": 214,
     "metadata": {},
     "output_type": "execute_result"
    },
    {
     "data": {
      "image/png": "[encoded data removed]",
      "text/plain": [
       "<Figure size 640x480 with 1 Axes>"
      ]
     },
     "metadata": {},
     "output_type": "display_data"
    }
   ],
   "source": [
    "print(cifar_y[0:10])\n",
    "\n",
    "import matplotlib.pyplot as plt\n",
    "plt.imshow(cifar_x[1])"
   ]
  },
  {
   "cell_type": "code",
   "execution_count": 215,
   "id": "f9c064d9",
   "metadata": {},
   "outputs": [
    {
     "name": "stdout",
     "output_type": "stream",
     "text": [
      "(60000, 28, 28) (60000,)\n",
      "(60000, 784) (60000, 10)\n"
     ]
    },
    {
     "data": {
      "text/plain": [
       "<matplotlib.image.AxesImage at 0x29e3ccfd0>"
      ]
     },
     "execution_count": 215,
     "metadata": {},
     "output_type": "execute_result"
    },
    {
     "data": {
      "image/png": "[encoded data removed]",
      "text/plain": [
       "<Figure size 640x480 with 1 Axes>"
      ]
     },
     "metadata": {},
     "output_type": "display_data"
    }
   ],
   "source": [
    "#데이터 준비\n",
    "(독립, 종속), (독립2, 종속2) = tf.keras.datasets.mnist.load_data()\n",
    "print(독립.shape, 종속.shape)\n",
    "\n",
    "독립r = 독립.reshape(60000, 784)\n",
    "독립2r = 독립2.reshape(10000, 784)\n",
    "종속 = pd.get_dummies(종속)\n",
    "print(독립r.shape, 종속.shape)\n",
    "plt.imshow(독립2[1])"
   ]
  },
  {
   "cell_type": "code",
   "execution_count": 216,
   "id": "4b3ecc7a",
   "metadata": {},
   "outputs": [],
   "source": [
    "#모델 만들기\n",
    "X = tf.keras.layers.Input(shape=[784])\n",
    "H = tf.keras.layers.Dense(84, activation='swish') (X)\n",
    "Y = tf.keras.layers.Dense(10, activation='softmax') (H)\n",
    "model = tf.keras.models.Model(X, Y)\n",
    "model.compile(loss='categorical_crossentropy', metrics='accuracy')"
   ]
  },
  {
   "cell_type": "code",
   "execution_count": 217,
   "id": "4829541a",
   "metadata": {},
   "outputs": [
    {
     "name": "stdout",
     "output_type": "stream",
     "text": [
      "Epoch 1/100\n",
      "1875/1875 [==============================] - 2s 763us/step - loss: 2.2506 - accuracy: 0.8436\n",
      "Epoch 2/100\n",
      "1875/1875 [==============================] - 1s 757us/step - loss: 0.5820 - accuracy: 0.9087\n",
      "Epoch 3/100\n",
      "1875/1875 [==============================] - 1s 747us/step - loss: 0.4748 - accuracy: 0.9253\n",
      "Epoch 4/100\n",
      "1875/1875 [==============================] - 33s 18ms/step - loss: 0.4234 - accuracy: 0.9329\n",
      "Epoch 5/100\n",
      "1875/1875 [==============================] - 1s 789us/step - loss: 0.4072 - accuracy: 0.9378\n",
      "Epoch 6/100\n",
      "1875/1875 [==============================] - 1s 765us/step - loss: 0.4085 - accuracy: 0.9420\n",
      "Epoch 7/100\n",
      "1875/1875 [==============================] - 1s 777us/step - loss: 0.3795 - accuracy: 0.9437\n",
      "Epoch 8/100\n",
      "1875/1875 [==============================] - 3s 2ms/step - loss: 0.3825 - accuracy: 0.9441\n",
      "Epoch 9/100\n",
      "1875/1875 [==============================] - 2s 1ms/step - loss: 0.3765 - accuracy: 0.9461\n",
      "Epoch 10/100\n",
      "1875/1875 [==============================] - 2s 1ms/step - loss: 0.3695 - accuracy: 0.9467\n",
      "Epoch 11/100\n",
      "1875/1875 [==============================] - 2s 926us/step - loss: 0.3633 - accuracy: 0.9487\n",
      "Epoch 12/100\n",
      "1875/1875 [==============================] - 2s 833us/step - loss: 0.3642 - accuracy: 0.9503\n",
      "Epoch 13/100\n",
      "1875/1875 [==============================] - 2s 803us/step - loss: 0.3454 - accuracy: 0.9509\n",
      "Epoch 14/100\n",
      "1875/1875 [==============================] - 2s 885us/step - loss: 0.3448 - accuracy: 0.9509\n",
      "Epoch 15/100\n",
      "1875/1875 [==============================] - 2s 869us/step - loss: 0.3525 - accuracy: 0.9525\n",
      "Epoch 16/100\n",
      "1875/1875 [==============================] - 2s 1ms/step - loss: 0.3381 - accuracy: 0.9530\n",
      "Epoch 17/100\n",
      "1875/1875 [==============================] - 3s 1ms/step - loss: 0.3422 - accuracy: 0.9530\n",
      "Epoch 18/100\n",
      "1875/1875 [==============================] - 2s 821us/step - loss: 0.3351 - accuracy: 0.9542\n",
      "Epoch 19/100\n",
      "1875/1875 [==============================] - 1s 769us/step - loss: 0.3383 - accuracy: 0.9552\n",
      "Epoch 20/100\n",
      "1875/1875 [==============================] - 2s 849us/step - loss: 0.3247 - accuracy: 0.9573\n",
      "Epoch 21/100\n",
      "1875/1875 [==============================] - 1s 761us/step - loss: 0.3212 - accuracy: 0.9557\n",
      "Epoch 22/100\n",
      "1875/1875 [==============================] - 1s 775us/step - loss: 0.3190 - accuracy: 0.9561\n",
      "Epoch 23/100\n",
      "1875/1875 [==============================] - 1s 793us/step - loss: 0.3188 - accuracy: 0.9589\n",
      "Epoch 24/100\n",
      "1875/1875 [==============================] - 2s 847us/step - loss: 0.3125 - accuracy: 0.9571\n",
      "Epoch 25/100\n",
      "1875/1875 [==============================] - 1s 746us/step - loss: 0.3126 - accuracy: 0.9578\n",
      "Epoch 26/100\n",
      "1875/1875 [==============================] - 2s 929us/step - loss: 0.3251 - accuracy: 0.9567\n",
      "Epoch 27/100\n",
      "1875/1875 [==============================] - 3s 1ms/step - loss: 0.3251 - accuracy: 0.9574\n",
      "Epoch 28/100\n",
      "1875/1875 [==============================] - 2s 803us/step - loss: 0.3076 - accuracy: 0.9583\n",
      "Epoch 29/100\n",
      "1875/1875 [==============================] - 2s 827us/step - loss: 0.3149 - accuracy: 0.9593\n",
      "Epoch 30/100\n",
      "1875/1875 [==============================] - 2s 867us/step - loss: 0.3112 - accuracy: 0.9581\n",
      "Epoch 31/100\n",
      "1875/1875 [==============================] - 2s 836us/step - loss: 0.3076 - accuracy: 0.9590\n",
      "Epoch 32/100\n",
      "1875/1875 [==============================] - 2s 1ms/step - loss: 0.3126 - accuracy: 0.9602\n",
      "Epoch 33/100\n",
      "1875/1875 [==============================] - 2s 1ms/step - loss: 0.3131 - accuracy: 0.9593\n",
      "Epoch 34/100\n",
      "1875/1875 [==============================] - 2s 1ms/step - loss: 0.3089 - accuracy: 0.9589\n",
      "Epoch 35/100\n",
      "1875/1875 [==============================] - 3s 2ms/step - loss: 0.2955 - accuracy: 0.9604\n",
      "Epoch 36/100\n",
      "1875/1875 [==============================] - 2s 883us/step - loss: 0.2804 - accuracy: 0.9598\n",
      "Epoch 37/100\n",
      "1875/1875 [==============================] - 2s 1ms/step - loss: 0.2771 - accuracy: 0.9590\n",
      "Epoch 38/100\n",
      "1875/1875 [==============================] - 2s 1ms/step - loss: 0.2859 - accuracy: 0.9605\n",
      "Epoch 39/100\n",
      "1875/1875 [==============================] - 2s 843us/step - loss: 0.2779 - accuracy: 0.9590\n",
      "Epoch 40/100\n",
      "1875/1875 [==============================] - 2s 871us/step - loss: 0.2848 - accuracy: 0.9592\n",
      "Epoch 41/100\n",
      "1875/1875 [==============================] - 2s 813us/step - loss: 0.2673 - accuracy: 0.9621\n",
      "Epoch 42/100\n",
      "1875/1875 [==============================] - 2s 952us/step - loss: 0.2749 - accuracy: 0.9621\n",
      "Epoch 43/100\n",
      "1875/1875 [==============================] - 2s 904us/step - loss: 0.2935 - accuracy: 0.9594\n",
      "Epoch 44/100\n",
      "1875/1875 [==============================] - 3s 2ms/step - loss: 0.2826 - accuracy: 0.9614\n",
      "Epoch 45/100\n",
      "1875/1875 [==============================] - 2s 856us/step - loss: 0.2805 - accuracy: 0.9605\n",
      "Epoch 46/100\n",
      "1875/1875 [==============================] - 2s 848us/step - loss: 0.2748 - accuracy: 0.9620\n",
      "Epoch 47/100\n",
      "1875/1875 [==============================] - 2s 1ms/step - loss: 0.2863 - accuracy: 0.9629\n",
      "Epoch 48/100\n",
      "1875/1875 [==============================] - 2s 1ms/step - loss: 0.2811 - accuracy: 0.9628\n",
      "Epoch 49/100\n",
      "1875/1875 [==============================] - 1s 745us/step - loss: 0.2726 - accuracy: 0.9633\n",
      "Epoch 50/100\n",
      "1875/1875 [==============================] - 2s 845us/step - loss: 0.2720 - accuracy: 0.9621\n",
      "Epoch 51/100\n",
      "1875/1875 [==============================] - 2s 1ms/step - loss: 0.2706 - accuracy: 0.9631\n",
      "Epoch 52/100\n",
      "1875/1875 [==============================] - 3s 2ms/step - loss: 0.2685 - accuracy: 0.9627\n",
      "Epoch 53/100\n",
      "1875/1875 [==============================] - 2s 1ms/step - loss: 0.2683 - accuracy: 0.9627\n",
      "Epoch 54/100\n",
      "1875/1875 [==============================] - 2s 962us/step - loss: 0.2616 - accuracy: 0.9627\n",
      "Epoch 55/100\n",
      "1875/1875 [==============================] - 2s 936us/step - loss: 0.2710 - accuracy: 0.9636\n",
      "Epoch 56/100\n",
      "1875/1875 [==============================] - 1s 797us/step - loss: 0.2771 - accuracy: 0.9607\n",
      "Epoch 57/100\n",
      "1875/1875 [==============================] - 2s 868us/step - loss: 0.2612 - accuracy: 0.9618\n",
      "Epoch 58/100\n",
      "1875/1875 [==============================] - 2s 889us/step - loss: 0.2604 - accuracy: 0.9604\n",
      "Epoch 59/100\n",
      "1875/1875 [==============================] - 2s 1ms/step - loss: 0.2668 - accuracy: 0.9591\n",
      "Epoch 60/100\n",
      "1875/1875 [==============================] - 2s 983us/step - loss: 0.2519 - accuracy: 0.9612\n",
      "Epoch 61/100\n",
      "1875/1875 [==============================] - 2s 1ms/step - loss: 0.2730 - accuracy: 0.9585\n",
      "Epoch 62/100\n",
      "1875/1875 [==============================] - 2s 1ms/step - loss: 0.2634 - accuracy: 0.9611\n",
      "Epoch 63/100\n",
      "1875/1875 [==============================] - 2s 931us/step - loss: 0.2349 - accuracy: 0.9653\n",
      "Epoch 64/100\n",
      "1875/1875 [==============================] - 2s 896us/step - loss: 0.2542 - accuracy: 0.9650\n",
      "Epoch 65/100\n",
      "1875/1875 [==============================] - 2s 852us/step - loss: 0.2584 - accuracy: 0.9650\n",
      "Epoch 66/100\n",
      "1875/1875 [==============================] - 2s 932us/step - loss: 0.2443 - accuracy: 0.9663\n",
      "Epoch 67/100\n",
      "1875/1875 [==============================] - 2s 956us/step - loss: 0.2332 - accuracy: 0.9661\n",
      "Epoch 68/100\n",
      "1875/1875 [==============================] - 2s 921us/step - loss: 0.2294 - accuracy: 0.9660\n",
      "Epoch 69/100\n",
      "1875/1875 [==============================] - 2s 1ms/step - loss: 0.2486 - accuracy: 0.9661\n",
      "Epoch 70/100\n",
      "1875/1875 [==============================] - 3s 2ms/step - loss: 0.2398 - accuracy: 0.9667\n",
      "Epoch 71/100\n",
      "1875/1875 [==============================] - 1s 766us/step - loss: 0.2386 - accuracy: 0.9667\n",
      "Epoch 72/100\n",
      "1875/1875 [==============================] - 2s 845us/step - loss: 0.2333 - accuracy: 0.9666\n",
      "Epoch 73/100\n",
      "1875/1875 [==============================] - 1s 781us/step - loss: 0.2382 - accuracy: 0.9670\n",
      "Epoch 74/100\n",
      "1875/1875 [==============================] - 2s 924us/step - loss: 0.2382 - accuracy: 0.9676\n",
      "Epoch 75/100\n",
      "1875/1875 [==============================] - 1s 798us/step - loss: 0.2328 - accuracy: 0.9669\n",
      "Epoch 76/100\n",
      "1875/1875 [==============================] - 2s 820us/step - loss: 0.2313 - accuracy: 0.9676\n",
      "Epoch 77/100\n",
      "1875/1875 [==============================] - 2s 881us/step - loss: 0.2211 - accuracy: 0.9664\n",
      "Epoch 78/100\n",
      "1875/1875 [==============================] - 2s 942us/step - loss: 0.2170 - accuracy: 0.9679\n",
      "Epoch 79/100\n",
      "1875/1875 [==============================] - 3s 2ms/step - loss: 0.2205 - accuracy: 0.9661\n",
      "Epoch 80/100\n",
      "1875/1875 [==============================] - 2s 1ms/step - loss: 0.2186 - accuracy: 0.9678\n",
      "Epoch 81/100\n",
      "1875/1875 [==============================] - 2s 1ms/step - loss: 0.2173 - accuracy: 0.9686\n",
      "Epoch 82/100\n",
      "1875/1875 [==============================] - 2s 970us/step - loss: 0.2361 - accuracy: 0.9651\n",
      "Epoch 83/100\n",
      "1875/1875 [==============================] - 2s 951us/step - loss: 0.2250 - accuracy: 0.9674\n",
      "Epoch 84/100\n",
      "1875/1875 [==============================] - 2s 817us/step - loss: 0.2243 - accuracy: 0.9676\n",
      "Epoch 85/100\n",
      "1875/1875 [==============================] - 2s 813us/step - loss: 0.2316 - accuracy: 0.9629\n",
      "Epoch 86/100\n",
      "1875/1875 [==============================] - 2s 963us/step - loss: 0.2134 - accuracy: 0.9669\n",
      "Epoch 87/100\n",
      "1875/1875 [==============================] - 2s 892us/step - loss: 0.2228 - accuracy: 0.9668\n",
      "Epoch 88/100\n",
      "1875/1875 [==============================] - 3s 2ms/step - loss: 0.2110 - accuracy: 0.9685\n",
      "Epoch 89/100\n",
      "1875/1875 [==============================] - 2s 959us/step - loss: 0.2250 - accuracy: 0.9657\n",
      "Epoch 90/100\n",
      "1875/1875 [==============================] - 2s 952us/step - loss: 0.2258 - accuracy: 0.9650\n",
      "Epoch 91/100\n",
      "1875/1875 [==============================] - 2s 810us/step - loss: 0.2237 - accuracy: 0.9677\n",
      "Epoch 92/100\n",
      "1875/1875 [==============================] - 2s 874us/step - loss: 0.2286 - accuracy: 0.9656\n",
      "Epoch 93/100\n",
      "1875/1875 [==============================] - 2s 858us/step - loss: 0.2125 - accuracy: 0.9675\n",
      "Epoch 94/100\n",
      "1875/1875 [==============================] - 2s 851us/step - loss: 0.2161 - accuracy: 0.9675\n",
      "Epoch 95/100\n",
      "1875/1875 [==============================] - 2s 856us/step - loss: 0.2267 - accuracy: 0.9671\n",
      "Epoch 96/100\n",
      "1875/1875 [==============================] - 2s 950us/step - loss: 0.2021 - accuracy: 0.9682\n",
      "Epoch 97/100\n",
      "1875/1875 [==============================] - 3s 2ms/step - loss: 0.1983 - accuracy: 0.9676\n",
      "Epoch 98/100\n",
      "1875/1875 [==============================] - 1s 795us/step - loss: 0.2160 - accuracy: 0.9671\n",
      "Epoch 99/100\n",
      "1875/1875 [==============================] - 2s 847us/step - loss: 0.2127 - accuracy: 0.9668\n",
      "Epoch 100/100\n",
      "1875/1875 [==============================] - 2s 960us/step - loss: 0.2002 - accuracy: 0.9701\n"
     ]
    },
    {
     "data": {
      "text/plain": [
       "<keras.src.callbacks.History at 0x29e3b3310>"
      ]
     },
     "execution_count": 217,
     "metadata": {},
     "output_type": "execute_result"
    }
   ],
   "source": [
    "#모델 학습하기\n",
    "model.fit(독립r, 종속, epochs=100)"
   ]
  },
  {
   "cell_type": "code",
   "execution_count": 232,
   "id": "c8b2749a",
   "metadata": {},
   "outputs": [
    {
     "name": "stdout",
     "output_type": "stream",
     "text": [
      "1/1 [==============================] - 0s 64ms/step\n",
      "정확도:  0.9558166861534119\n"
     ]
    },
    {
     "data": {
      "text/plain": [
       "<matplotlib.image.AxesImage at 0x2842ded10>"
      ]
     },
     "execution_count": 232,
     "metadata": {},
     "output_type": "execute_result"
    },
    {
     "data": {
      "image/png": "[encoded data removed]",
      "text/plain": [
       "<Figure size 640x480 with 1 Axes>"
      ]
     },
     "metadata": {},
     "output_type": "display_data"
    }
   ],
   "source": [
    "#모델 이용\n",
    "#loss, accuracy = model.evaluate(독립r, 종속)\n",
    "\n",
    "image1_path = '/Users/ddoram/Desktop/111.png'\n",
    "image2_path = '/Users/ddoram/Desktop/2.png'\n",
    "image6_path = '/Users/ddoram/Desktop/6.png'\n",
    "\n",
    "\n",
    "\n",
    "\n",
    "image1 = Image.open(image1_path)\n",
    "image2 = Image.open(image2_path)\n",
    "\n",
    "gray_image1 = image1.convert('L')\n",
    "#gray_image.show()\n",
    "image1_array = np.array(image1)\n",
    "gray_image1_array = np.array(gray_image1)\n",
    "image1_arrayR = image1_array.reshape(1, 784)\n",
    "gray_image1_arrayR = gray_image1_array.reshape(1, 784)\n",
    " #반전된 이미지\n",
    "inverted_gray_image1 = ImageOps.invert(gray_image1)\n",
    "inverted_gray_image1_array = np.array(inverted_gray_image1)\n",
    "inverted_gray_image1_arrayR = inverted_gray_image1_array.reshape(1, 784)\n",
    "#print(gray_image_arrayR)\n",
    "ImageList = [inverted_gray_image1_array, image1_array]\n",
    "ImageListR = [inverted_gray_image1_arrayR, image1_arrayR]\n",
    "\n",
    "#print(image_array)\n",
    "\n",
    "pred = model.predict(ImageListR[0])\n",
    "print(\"정확도: \",accuracy) #<--- 정확도 출력 방법 찾아보기\n",
    "pd.DataFrame(pred).round(2)\n",
    "plt.imshow(ImageList[0])\n",
    "#plt.imshow(독립2[0])\n",
    "#plt.show()\n",
    "#print(\"값은: \", 종속)"
   ]
  },
  {
   "cell_type": "code",
   "execution_count": null,
   "id": "04b0c454",
   "metadata": {},
   "outputs": [],
   "source": []
  },
  {
   "cell_type": "code",
   "execution_count": 219,
   "id": "0e447b81",
   "metadata": {},
   "outputs": [
    {
     "data": {
      "text/plain": [
       "<matplotlib.image.AxesImage at 0x2c3e1ed10>"
      ]
     },
     "execution_count": 219,
     "metadata": {},
     "output_type": "execute_result"
    },
    {
     "data": {
      "image/png": "[encoded data removed]",
      "text/plain": [
       "<Figure size 640x480 with 1 Axes>"
      ]
     },
     "metadata": {},
     "output_type": "display_data"
    }
   ],
   "source": [
    "#print(종속[0:100])\n",
    "plt.imshow(독립[3])\n",
    "#image_arrayR = image_array.reshape(3136, 784)\n",
    "#print(gray_image_array)\n"
   ]
  },
  {
   "cell_type": "code",
   "execution_count": 220,
   "id": "21d52c3e",
   "metadata": {},
   "outputs": [
    {
     "ename": "SyntaxError",
     "evalue": "invalid syntax (1794975836.py, line 2)",
     "output_type": "error",
     "traceback": [
      "\u001b[0;36m  Cell \u001b[0;32mIn[220], line 2\u001b[0;36m\u001b[0m\n\u001b[0;31m    \"image_name\"_path = image_path\u001b[0m\n\u001b[0m                ^\u001b[0m\n\u001b[0;31mSyntaxError\u001b[0m\u001b[0;31m:\u001b[0m invalid syntax\n"
     ]
    }
   ],
   "source": [
    "def MakeImage(image_name, image_path, gray_image, gray_image_array):\n",
    "    \"image_name\"_path = image_path\n",
    "    image1 = Image.open(image1_path)\n",
    "\n"
   ]
  }
 ],
 "metadata": {
  "kernelspec": {
   "display_name": "Python 3 (ipykernel)",
   "language": "python",
   "name": "python3"
  },
  "language_info": {
   "codemirror_mode": {
    "name": "ipython",
    "version": 3
   },
   "file_extension": ".py",
   "mimetype": "text/x-python",
   "name": "python",
   "nbconvert_exporter": "python",
   "pygments_lexer": "ipython3",
   "version": "3.11.5"
  }
 },
 "nbformat": 4,
 "nbformat_minor": 5
}
