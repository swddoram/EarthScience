{
 "cells": [
  {
   "cell_type": "code",
   "execution_count": 3,
   "id": "12d0ac42",
   "metadata": {},
   "outputs": [],
   "source": [
    "import tensorflow as tf\n",
    "import pandas as pd\n",
    "import matplotlib.pyplot as plt\n",
    "from PIL import Image\n",
    "from PIL import ImageOps\n",
    "import numpy as np\n",
    "import os\n",
    "import glob"
   ]
  },
  {
   "cell_type": "code",
   "execution_count": 11,
   "id": "f9c064d9",
   "metadata": {},
   "outputs": [],
   "source": [
    "#데이터 준비\n",
    "(독립, 종속), (독립2, 종속2) = tf.keras.datasets.cifar10.load_data()\n",
    "#print(독립.shape, 종속.shape)\n",
    "\n",
    "독립r = 독립.reshape(50000, 32, 32, 3)\n",
    "독립2r = 독립2.reshape(10000, 32, 32, 3)\n",
    "\n",
    "# 종속 데이터를 1차원 배열로 변환\n",
    "종속 = pd.get_dummies(종속.ravel())\n",
    "#print(종속)\n",
    "# print(독립r.shape, 종속.shape)\n",
    "# plt.imshow(독립2[1])"
   ]
  },
  {
   "cell_type": "code",
   "execution_count": 10,
   "id": "4b3ecc7a",
   "metadata": {},
   "outputs": [],
   "source": [
    "#모델 만들기\n",
    "X = tf.keras.layers.Input(shape=[32, 32, 3])\n",
    "H = tf.keras.layers.Flatten() (X)\n",
    "H = tf.keras.layers.Dense(84, activation='swish') (H)\n",
    "Y = tf.keras.layers.Dense(10, activation='softmax') (H)\n",
    "model = tf.keras.models.Model(X, Y)\n",
    "model.compile(loss='categorical_crossentropy', metrics=['accuracy'])"
   ]
  },
  {
   "cell_type": "code",
   "execution_count": 12,
   "id": "4829541a",
   "metadata": {},
   "outputs": [
    {
     "name": "stdout",
     "output_type": "stream",
     "text": [
      "Epoch 1/10\n",
      "1563/1563 [==============================] - 3s 2ms/step - loss: 39.4334 - accuracy: 0.1056\n",
      "Epoch 2/10\n",
      "1563/1563 [==============================] - 2s 2ms/step - loss: 2.6098 - accuracy: 0.0988\n",
      "Epoch 3/10\n",
      "1563/1563 [==============================] - 2s 2ms/step - loss: 2.3975 - accuracy: 0.0992\n",
      "Epoch 4/10\n",
      "1563/1563 [==============================] - 2s 2ms/step - loss: 2.3990 - accuracy: 0.0984\n",
      "Epoch 5/10\n",
      "1563/1563 [==============================] - 2s 2ms/step - loss: 2.3758 - accuracy: 0.0972\n",
      "Epoch 6/10\n",
      "1563/1563 [==============================] - 2s 1ms/step - loss: 2.3632 - accuracy: 0.0972\n",
      "Epoch 7/10\n",
      "1563/1563 [==============================] - 3s 2ms/step - loss: 2.3604 - accuracy: 0.0979\n",
      "Epoch 8/10\n",
      "1563/1563 [==============================] - 3s 2ms/step - loss: 2.3445 - accuracy: 0.0969\n",
      "Epoch 9/10\n",
      "1563/1563 [==============================] - 3s 2ms/step - loss: 2.3466 - accuracy: 0.0953\n",
      "Epoch 10/10\n",
      "1563/1563 [==============================] - 3s 2ms/step - loss: 2.3453 - accuracy: 0.0987\n"
     ]
    },
    {
     "data": {
      "text/plain": [
       "<keras.src.callbacks.History at 0x1745bf890>"
      ]
     },
     "execution_count": 12,
     "metadata": {},
     "output_type": "execute_result"
    }
   ],
   "source": [
    "#모델 학습하기\n",
    "# model.fit(독립r, 종속, epochs=300, verbose=0)\n",
    "model.fit(독립r, 종속, epochs=10)\n",
    "\n",
    "#모델 구조 확인\n",
    "#model.summary()"
   ]
  },
  {
   "cell_type": "code",
   "execution_count": 13,
   "id": "38499a54",
   "metadata": {},
   "outputs": [],
   "source": [
    "\n",
    "image_list = []\n",
    "image_listR = []\n",
    "gray_image_list = []\n",
    "gray_image_listR = []\n",
    "inverted_gray_image_list = []\n",
    "inverted_gray_image_listR = []\n",
    "\n",
    "def ImageSetting(file_name, number):\n",
    "    # image_path = os.path.join(os.getcwd(), file_name)\n",
    "    image_path = glob.glob('./stones_reform/*/*.png')\n",
    "    image = Image.open(image_path)\n",
    "    gray_image = image.convert('L')\n",
    "    inverted_gray_image = ImageOps.invert(gray_image)\n",
    "    image_array = np.array(image)\n",
    "    gray_image_array = np.array(gray_image)\n",
    "    inverted_gray_image_array = np.array(inverted_gray_image)\n",
    "    image_arrayR = image_array.reshape(1, 784)\n",
    "    gray_image_arrayR = image_array.reshape(1, 784)\n",
    "    inverted_gray_image_arrayR = inverted_gray_image_array.reshape(1, 784)\n",
    "\n",
    "    image_list.insert(number, image_array)\n",
    "    image_listR.insert(number, image_arrayR)\n",
    "    gray_image_list.insert(number, gray_image_array)\n",
    "    gray_image_listR.insert(number, gray_image_arrayR)\n",
    "    inverted_gray_image_list.insert(number, inverted_gray_image_array)\n",
    "    inverted_gray_image_listR.insert(number, inverted_gray_image_arrayR)\n",
    "\n",
    "\n"
   ]
  },
  {
   "cell_type": "code",
   "execution_count": 6,
   "metadata": {},
   "outputs": [
    {
     "name": "stdout",
     "output_type": "stream",
     "text": [
      "['./']\n"
     ]
    }
   ],
   "source": [
    "image_path = glob.glob('./')\n",
    "print(image_path)"
   ]
  },
  {
   "cell_type": "code",
   "execution_count": 14,
   "id": "c8b2749a",
   "metadata": {},
   "outputs": [
    {
     "name": "stdout",
     "output_type": "stream",
     "text": [
      "1563/1563 [==============================] - 1s 628us/step - loss: 2.3026 - accuracy: 0.1000\n"
     ]
    },
    {
     "ename": "AttributeError",
     "evalue": "'list' object has no attribute 'read'",
     "output_type": "error",
     "traceback": [
      "\u001b[0;31m---------------------------------------------------------------------------\u001b[0m",
      "\u001b[0;31mAttributeError\u001b[0m                            Traceback (most recent call last)",
      "File \u001b[0;32m~/anaconda3/lib/python3.11/site-packages/PIL/Image.py:3231\u001b[0m, in \u001b[0;36mopen\u001b[0;34m(fp, mode, formats)\u001b[0m\n\u001b[1;32m   3230\u001b[0m \u001b[39mtry\u001b[39;00m:\n\u001b[0;32m-> 3231\u001b[0m     fp\u001b[39m.\u001b[39mseek(\u001b[39m0\u001b[39m)\n\u001b[1;32m   3232\u001b[0m \u001b[39mexcept\u001b[39;00m (\u001b[39mAttributeError\u001b[39;00m, io\u001b[39m.\u001b[39mUnsupportedOperation):\n",
      "\u001b[0;31mAttributeError\u001b[0m: 'list' object has no attribute 'seek'",
      "\nDuring handling of the above exception, another exception occurred:\n",
      "\u001b[0;31mAttributeError\u001b[0m                            Traceback (most recent call last)",
      "\u001b[1;32m/Users/ddoram/Documents/GitHub/EarthScience/지구과학발표/ClassifyStones.ipynb 셀 7\u001b[0m line \u001b[0;36m4\n\u001b[1;32m      <a href='vscode-notebook-cell:/Users/ddoram/Documents/GitHub/EarthScience/%EC%A7%80%EA%B5%AC%EA%B3%BC%ED%95%99%EB%B0%9C%ED%91%9C/ClassifyStones.ipynb#W5sZmlsZQ%3D%3D?line=0'>1</a>\u001b[0m \u001b[39m#모델 이용\u001b[39;00m\n\u001b[1;32m      <a href='vscode-notebook-cell:/Users/ddoram/Documents/GitHub/EarthScience/%EC%A7%80%EA%B5%AC%EA%B3%BC%ED%95%99%EB%B0%9C%ED%91%9C/ClassifyStones.ipynb#W5sZmlsZQ%3D%3D?line=1'>2</a>\u001b[0m loss, accuracy \u001b[39m=\u001b[39m model\u001b[39m.\u001b[39mevaluate(독립r, 종속)\n\u001b[0;32m----> <a href='vscode-notebook-cell:/Users/ddoram/Documents/GitHub/EarthScience/%EC%A7%80%EA%B5%AC%EA%B3%BC%ED%95%99%EB%B0%9C%ED%91%9C/ClassifyStones.ipynb#W5sZmlsZQ%3D%3D?line=3'>4</a>\u001b[0m ImageSetting(\u001b[39m'\u001b[39m\u001b[39m1.png\u001b[39m\u001b[39m'\u001b[39m, \u001b[39m0\u001b[39m)\n\u001b[1;32m      <a href='vscode-notebook-cell:/Users/ddoram/Documents/GitHub/EarthScience/%EC%A7%80%EA%B5%AC%EA%B3%BC%ED%95%99%EB%B0%9C%ED%91%9C/ClassifyStones.ipynb#W5sZmlsZQ%3D%3D?line=4'>5</a>\u001b[0m ImageSetting(\u001b[39m'\u001b[39m\u001b[39m2.png\u001b[39m\u001b[39m'\u001b[39m, \u001b[39m1\u001b[39m)\n\u001b[1;32m      <a href='vscode-notebook-cell:/Users/ddoram/Documents/GitHub/EarthScience/%EC%A7%80%EA%B5%AC%EA%B3%BC%ED%95%99%EB%B0%9C%ED%91%9C/ClassifyStones.ipynb#W5sZmlsZQ%3D%3D?line=5'>6</a>\u001b[0m pred \u001b[39m=\u001b[39m model\u001b[39m.\u001b[39mpredict(독립r[\u001b[39m0\u001b[39m:\u001b[39m5\u001b[39m])\n",
      "\u001b[1;32m/Users/ddoram/Documents/GitHub/EarthScience/지구과학발표/ClassifyStones.ipynb 셀 7\u001b[0m line \u001b[0;36m1\n\u001b[1;32m      <a href='vscode-notebook-cell:/Users/ddoram/Documents/GitHub/EarthScience/%EC%A7%80%EA%B5%AC%EA%B3%BC%ED%95%99%EB%B0%9C%ED%91%9C/ClassifyStones.ipynb#W5sZmlsZQ%3D%3D?line=7'>8</a>\u001b[0m \u001b[39mdef\u001b[39;00m \u001b[39mImageSetting\u001b[39m(file_name, number):\n\u001b[1;32m      <a href='vscode-notebook-cell:/Users/ddoram/Documents/GitHub/EarthScience/%EC%A7%80%EA%B5%AC%EA%B3%BC%ED%95%99%EB%B0%9C%ED%91%9C/ClassifyStones.ipynb#W5sZmlsZQ%3D%3D?line=8'>9</a>\u001b[0m     \u001b[39m# image_path = os.path.join(os.getcwd(), file_name)\u001b[39;00m\n\u001b[1;32m     <a href='vscode-notebook-cell:/Users/ddoram/Documents/GitHub/EarthScience/%EC%A7%80%EA%B5%AC%EA%B3%BC%ED%95%99%EB%B0%9C%ED%91%9C/ClassifyStones.ipynb#W5sZmlsZQ%3D%3D?line=9'>10</a>\u001b[0m     image_path \u001b[39m=\u001b[39m glob\u001b[39m.\u001b[39mglob(\u001b[39m'\u001b[39m\u001b[39m./stones_reform/*/*.png\u001b[39m\u001b[39m'\u001b[39m)\n\u001b[0;32m---> <a href='vscode-notebook-cell:/Users/ddoram/Documents/GitHub/EarthScience/%EC%A7%80%EA%B5%AC%EA%B3%BC%ED%95%99%EB%B0%9C%ED%91%9C/ClassifyStones.ipynb#W5sZmlsZQ%3D%3D?line=10'>11</a>\u001b[0m     image \u001b[39m=\u001b[39m Image\u001b[39m.\u001b[39mopen(image_path)\n\u001b[1;32m     <a href='vscode-notebook-cell:/Users/ddoram/Documents/GitHub/EarthScience/%EC%A7%80%EA%B5%AC%EA%B3%BC%ED%95%99%EB%B0%9C%ED%91%9C/ClassifyStones.ipynb#W5sZmlsZQ%3D%3D?line=11'>12</a>\u001b[0m     gray_image \u001b[39m=\u001b[39m image\u001b[39m.\u001b[39mconvert(\u001b[39m'\u001b[39m\u001b[39mL\u001b[39m\u001b[39m'\u001b[39m)\n\u001b[1;32m     <a href='vscode-notebook-cell:/Users/ddoram/Documents/GitHub/EarthScience/%EC%A7%80%EA%B5%AC%EA%B3%BC%ED%95%99%EB%B0%9C%ED%91%9C/ClassifyStones.ipynb#W5sZmlsZQ%3D%3D?line=12'>13</a>\u001b[0m     inverted_gray_image \u001b[39m=\u001b[39m ImageOps\u001b[39m.\u001b[39minvert(gray_image)\n",
      "File \u001b[0;32m~/anaconda3/lib/python3.11/site-packages/PIL/Image.py:3233\u001b[0m, in \u001b[0;36mopen\u001b[0;34m(fp, mode, formats)\u001b[0m\n\u001b[1;32m   3231\u001b[0m     fp\u001b[39m.\u001b[39mseek(\u001b[39m0\u001b[39m)\n\u001b[1;32m   3232\u001b[0m \u001b[39mexcept\u001b[39;00m (\u001b[39mAttributeError\u001b[39;00m, io\u001b[39m.\u001b[39mUnsupportedOperation):\n\u001b[0;32m-> 3233\u001b[0m     fp \u001b[39m=\u001b[39m io\u001b[39m.\u001b[39mBytesIO(fp\u001b[39m.\u001b[39mread())\n\u001b[1;32m   3234\u001b[0m     exclusive_fp \u001b[39m=\u001b[39m \u001b[39mTrue\u001b[39;00m\n\u001b[1;32m   3236\u001b[0m prefix \u001b[39m=\u001b[39m fp\u001b[39m.\u001b[39mread(\u001b[39m16\u001b[39m)\n",
      "\u001b[0;31mAttributeError\u001b[0m: 'list' object has no attribute 'read'"
     ]
    }
   ],
   "source": [
    "#모델 이용\n",
    "loss, accuracy = model.evaluate(독립r, 종속)\n",
    "\n",
    "ImageSetting('1.png', 0)\n",
    "ImageSetting('2.png', 1)\n",
    "pred = model.predict(독립r[0:5])\n",
    "print(\"정확도: \",accuracy) #<--- 정확도 출력 방법 찾아보기\n",
    "pd.DataFrame(pred).round(2)\n",
    "#plt.imshow(image_list[1])\n",
    "#print(\"값은: \", 종속)"
   ]
  },
  {
   "cell_type": "code",
   "execution_count": null,
   "id": "0e447b81",
   "metadata": {},
   "outputs": [
    {
     "data": {
      "text/plain": [
       "<matplotlib.image.AxesImage at 0x2640cebea50>"
      ]
     },
     "execution_count": 8,
     "metadata": {},
     "output_type": "execute_result"
    },
    {
     "data": {
      "image/png": "[encoded data removed]",
      "text/plain": [
       "<Figure size 640x480 with 1 Axes>"
      ]
     },
     "metadata": {},
     "output_type": "display_data"
    }
   ],
   "source": [
    "#print(종속[0:100])\n",
    "plt.imshow(독립[2])\n",
    "#image_arrayR = image_array.reshape(3136, 784)\n",
    "#print(gray_image_array)\n"
   ]
  }
 ],
 "metadata": {
  "kernelspec": {
   "display_name": "Python 3 (ipykernel)",
   "language": "python",
   "name": "python3"
  },
  "language_info": {
   "codemirror_mode": {
    "name": "ipython",
    "version": 3
   },
   "file_extension": ".py",
   "mimetype": "text/x-python",
   "name": "python",
   "nbconvert_exporter": "python",
   "pygments_lexer": "ipython3",
   "version": "3.11.5"
  }
 },
 "nbformat": 4,
 "nbformat_minor": 5
}
