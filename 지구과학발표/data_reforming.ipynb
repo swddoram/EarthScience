{
 "cells": [
  {
   "cell_type": "code",
   "execution_count": 1,
   "metadata": {},
   "outputs": [],
   "source": [
    "from PIL import Image\n",
    "%matplotlib inline\n",
    "import matplotlib\n",
    "import matplotlib.pyplot as plt\n",
    "import torch\n",
    "from torch.utils.data import Dataset, DataLoader\n",
    "import numpy as np\n",
    "import torchvision\n",
    "from torchvision import transforms\n",
    "import os\n",
    "import glob"
   ]
  },
  {
   "cell_type": "code",
   "execution_count": 25,
   "metadata": {},
   "outputs": [
    {
     "name": "stdout",
     "output_type": "stream",
     "text": [
      "/Users/ddoram/Documents/GitHub/EarthScience/지구과학발표/stones_reform\n"
     ]
    }
   ],
   "source": [
    "    #os.path.dirname(경로) => 상위파일 경로 확인\n",
    "image_path = os.path.dirname(os.getcwd()) + '/stones_reform'\n",
    "trans = transforms.Compose([transforms.Resize((100,100)), transforms.ToTensor(), transforms.Normalize((0.5,0.5,0.5),(0.5,0.5,0.5))])\n",
    "trainset = torchvision.datasets.ImageFolder(root = image_path, transform = trans)\n",
    "print(image_path)"
   ]
  },
  {
   "cell_type": "code",
   "execution_count": 8,
   "metadata": {},
   "outputs": [
    {
     "name": "stdout",
     "output_type": "stream",
     "text": [
      "['./stones_reform/Basalt/basalt3.png', './stones_reform/Basalt/basalt2.png', './stones_reform/Basalt/basalt1.png', './stones_reform/Basalt/basalt5.png', './stones_reform/Basalt/basalt11.png', './stones_reform/Basalt/basalt10.png', './stones_reform/Basalt/basalt4.png', './stones_reform/Basalt/basalt6.png', './stones_reform/Basalt/basalt7.png', './stones_reform/Basalt/basalt9.png', './stones_reform/Basalt/basalt8.png', './stones_reform/Marble/marble1.png', './stones_reform/Marble/marble3.png', './stones_reform/Marble/marble2.png', './stones_reform/Marble/marble4.png']\n"
     ]
    }
   ],
   "source": [
    "A = glob.glob('./stones_reform/*/*.png')\n",
    "print(A)"
   ]
  },
  {
   "cell_type": "code",
   "execution_count": 32,
   "metadata": {},
   "outputs": [
    {
     "data": {
      "text/plain": [
       "(tensor([[[0.8039, 0.8118, 0.8118,  ..., 0.6941, 0.6784, 0.6784],\n",
       "          [0.8275, 0.8275, 0.8275,  ..., 0.6941, 0.6941, 0.6863],\n",
       "          [0.8431, 0.8353, 0.8431,  ..., 0.7098, 0.7020, 0.6941],\n",
       "          ...,\n",
       "          [0.9686, 0.9765, 0.9765,  ..., 0.9059, 0.9137, 0.9137],\n",
       "          [0.9686, 0.9686, 0.9686,  ..., 0.8980, 0.9059, 0.8980],\n",
       "          [0.9608, 0.9686, 0.9765,  ..., 0.9059, 0.8980, 0.8980]],\n",
       " \n",
       "         [[0.7804, 0.7882, 0.7882,  ..., 0.6863, 0.6706, 0.6706],\n",
       "          [0.8039, 0.8039, 0.8039,  ..., 0.6863, 0.6863, 0.6784],\n",
       "          [0.8196, 0.8118, 0.8196,  ..., 0.7020, 0.6941, 0.6863],\n",
       "          ...,\n",
       "          [0.9451, 0.9529, 0.9529,  ..., 0.8980, 0.9059, 0.9059],\n",
       "          [0.9451, 0.9451, 0.9451,  ..., 0.8902, 0.8980, 0.8902],\n",
       "          [0.9373, 0.9451, 0.9529,  ..., 0.8980, 0.8902, 0.8902]],\n",
       " \n",
       "         [[0.7098, 0.7176, 0.7176,  ..., 0.7333, 0.7176, 0.7176],\n",
       "          [0.7333, 0.7333, 0.7333,  ..., 0.7333, 0.7333, 0.7255],\n",
       "          [0.7490, 0.7412, 0.7490,  ..., 0.7490, 0.7412, 0.7333],\n",
       "          ...,\n",
       "          [0.8745, 0.8824, 0.8824,  ..., 0.9373, 0.9451, 0.9451],\n",
       "          [0.8745, 0.8745, 0.8745,  ..., 0.9294, 0.9373, 0.9294],\n",
       "          [0.8667, 0.8745, 0.8824,  ..., 0.9373, 0.9294, 0.9294]]]),\n",
       " 0)"
      ]
     },
     "execution_count": 32,
     "metadata": {},
     "output_type": "execute_result"
    }
   ],
   "source": [
    "trainset.__getitem__(0)"
   ]
  },
  {
   "cell_type": "code",
   "execution_count": 33,
   "metadata": {},
   "outputs": [
    {
     "data": {
      "text/plain": [
       "15"
      ]
     },
     "execution_count": 33,
     "metadata": {},
     "output_type": "execute_result"
    }
   ],
   "source": [
    "len(trainset)"
   ]
  }
 ],
 "metadata": {
  "kernelspec": {
   "display_name": "base",
   "language": "python",
   "name": "python3"
  },
  "language_info": {
   "codemirror_mode": {
    "name": "ipython",
    "version": 3
   },
   "file_extension": ".py",
   "mimetype": "text/x-python",
   "name": "python",
   "nbconvert_exporter": "python",
   "pygments_lexer": "ipython3",
   "version": "3.11.5"
  }
 },
 "nbformat": 4,
 "nbformat_minor": 2
}
