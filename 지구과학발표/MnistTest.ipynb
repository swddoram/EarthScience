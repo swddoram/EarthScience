{
 "cells": [
  {
   "cell_type": "code",
   "execution_count": 2,
   "id": "12d0ac42",
   "metadata": {},
   "outputs": [],
   "source": [
    "import tensorflow as tf\n",
    "import pandas as pd\n",
    "import matplotlib.pyplot as plt\n",
    "from PIL import Image\n",
    "from PIL import ImageOps\n",
    "import numpy as np\n",
    "import os"
   ]
  },
  {
   "cell_type": "code",
   "execution_count": 3,
   "id": "f9c064d9",
   "metadata": {},
   "outputs": [
    {
     "name": "stdout",
     "output_type": "stream",
     "text": [
      "(60000, 28, 28) (60000,)\n",
      "(60000, 784) (60000, 10)\n"
     ]
    },
    {
     "data": {
      "text/plain": [
       "<matplotlib.image.AxesImage at 0x2647fe4e190>"
      ]
     },
     "execution_count": 3,
     "metadata": {},
     "output_type": "execute_result"
    },
    {
     "data": {
      "image/png": "[encoded data removed]",
      "text/plain": [
       "<Figure size 640x480 with 1 Axes>"
      ]
     },
     "metadata": {},
     "output_type": "display_data"
    }
   ],
   "source": [
    "#데이터 준비\n",
    "(독립, 종속), (독립2, 종속2) = tf.keras.datasets.mnist.load_data()\n",
    "print(독립.shape, 종속.shape)\n",
    "\n",
    "독립r = 독립.reshape(60000, 784)\n",
    "독립2r = 독립2.reshape(10000, 784)\n",
    "종속 = pd.get_dummies(종속)\n",
    "print(독립r.shape, 종속.shape)\n",
    "plt.imshow(독립2[1])"
   ]
  },
  {
   "cell_type": "code",
   "execution_count": 4,
   "id": "4b3ecc7a",
   "metadata": {},
   "outputs": [],
   "source": [
    "#모델 만들기\n",
    "X = tf.keras.layers.Input(shape=[784])\n",
    "H = tf.keras.layers.Dense(84, activation='swish') (X)\n",
    "Y = tf.keras.layers.Dense(10, activation='softmax') (H)\n",
    "model = tf.keras.models.Model(X, Y)\n",
    "model.compile(loss='categorical_crossentropy', metrics='accuracy')"
   ]
  },
  {
   "cell_type": "code",
   "execution_count": 9,
   "id": "4829541a",
   "metadata": {},
   "outputs": [
    {
     "name": "stdout",
     "output_type": "stream",
     "text": [
      "Model: \"model\"\n",
      "_________________________________________________________________\n",
      " Layer (type)                Output Shape              Param #   \n",
      "=================================================================\n",
      " input_1 (InputLayer)        [(None, 784)]             0         \n",
      "                                                                 \n",
      " dense (Dense)               (None, 84)                65940     \n",
      "                                                                 \n",
      " dense_1 (Dense)             (None, 10)                850       \n",
      "                                                                 \n",
      "=================================================================\n",
      "Total params: 66790 (260.90 KB)\n",
      "Trainable params: 66790 (260.90 KB)\n",
      "Non-trainable params: 0 (0.00 Byte)\n",
      "_________________________________________________________________\n"
     ]
    }
   ],
   "source": [
    "#모델 학습하기\n",
    "model.fit(독립r, 종속, epochs=10)\n",
    "\n",
    "#모델 구조 확인\n",
    "#model.summary()"
   ]
  },
  {
   "cell_type": "code",
   "execution_count": 6,
   "id": "38499a54",
   "metadata": {},
   "outputs": [],
   "source": [
    "image_list = []\n",
    "image_listR = []\n",
    "gray_image_list = []\n",
    "gray_image_listR = []\n",
    "inverted_gray_image_list = []\n",
    "inverted_gray_image_listR = []\n",
    "\n",
    "def ImageSetting(file_name, number):\n",
    "    image_path = os.path.join(os.getcwd(), file_name)\n",
    "    image = Image.open(image_path)\n",
    "    gray_image = image.convert('L')\n",
    "    inverted_gray_image = ImageOps.invert(gray_image)\n",
    "    image_array = np.array(image)\n",
    "    gray_image_array = np.array(gray_image)\n",
    "    inverted_gray_image_array = np.array(inverted_gray_image)\n",
    "    image_arrayR = image_array.reshape(1, 784)\n",
    "    gray_image_arrayR = image_array.reshape(1, 784)\n",
    "    inverted_gray_image_arrayR = inverted_gray_image_array.reshape(1, 784)\n",
    "\n",
    "    image_list.insert(number, image_array)\n",
    "    image_listR.insert(number, image_arrayR)\n",
    "    # image_listR[number] = image_arrayR\n",
    "    # gray_image_list[number] = gray_image_array\n",
    "    # gray_image_listR[number] = gray_image_arrayR\n",
    "    # inverted_gray_image_list[number] = inverted_gray_image_list\n",
    "    # inverted_gray_image_listR[number] = inverted_gray_image_arrayR\n",
    "\n",
    "\n"
   ]
  },
  {
   "cell_type": "code",
   "execution_count": 7,
   "id": "c8b2749a",
   "metadata": {},
   "outputs": [
    {
     "name": "stdout",
     "output_type": "stream",
     "text": [
      "1875/1875 [==============================] - 3s 1ms/step - loss: 0.2555 - accuracy: 0.9621\n",
      "1/1 [==============================] - 0s 188ms/step\n",
      "정확도:  0.962066650390625\n"
     ]
    },
    {
     "data": {
      "text/html": [
       "<div>\n",
       "<style scoped>\n",
       "    .dataframe tbody tr th:only-of-type {\n",
       "        vertical-align: middle;\n",
       "    }\n",
       "\n",
       "    .dataframe tbody tr th {\n",
       "        vertical-align: top;\n",
       "    }\n",
       "\n",
       "    .dataframe thead th {\n",
       "        text-align: right;\n",
       "    }\n",
       "</style>\n",
       "<table border=\"1\" class=\"dataframe\">\n",
       "  <thead>\n",
       "    <tr style=\"text-align: right;\">\n",
       "      <th></th>\n",
       "      <th>0</th>\n",
       "      <th>1</th>\n",
       "      <th>2</th>\n",
       "      <th>3</th>\n",
       "      <th>4</th>\n",
       "      <th>5</th>\n",
       "      <th>6</th>\n",
       "      <th>7</th>\n",
       "      <th>8</th>\n",
       "      <th>9</th>\n",
       "    </tr>\n",
       "  </thead>\n",
       "  <tbody>\n",
       "    <tr>\n",
       "      <th>0</th>\n",
       "      <td>0.0</td>\n",
       "      <td>0.02</td>\n",
       "      <td>0.96</td>\n",
       "      <td>0.01</td>\n",
       "      <td>0.0</td>\n",
       "      <td>0.0</td>\n",
       "      <td>0.0</td>\n",
       "      <td>0.02</td>\n",
       "      <td>0.0</td>\n",
       "      <td>0.0</td>\n",
       "    </tr>\n",
       "  </tbody>\n",
       "</table>\n",
       "</div>"
      ],
      "text/plain": [
       "     0     1     2     3    4    5    6     7    8    9\n",
       "0  0.0  0.02  0.96  0.01  0.0  0.0  0.0  0.02  0.0  0.0"
      ]
     },
     "execution_count": 7,
     "metadata": {},
     "output_type": "execute_result"
    }
   ],
   "source": [
    "#모델 이용\n",
    "loss, accuracy = model.evaluate(독립r, 종속)\n",
    "\n",
    "# image1_path = os.path.join(os.getcwd(), '1.png')\n",
    "# image2_path = os.path.join(os.getcwd(), '1.png')\n",
    "# image6_path = '/Users/ddoram/Desktop/6.png'\n",
    "\n",
    "# image1 = Image.open(image1_path)\n",
    "# image2 = Image.open(image2_path)\n",
    "\n",
    "# gray_image1 = image1.convert('L')\n",
    "# #gray_image.show()\n",
    "# image1_array = np.array(image1)\n",
    "# gray_image1_array = np.array(gray_image1)\n",
    "# image1_arrayR = image1_array.reshape(1, 784)\n",
    "# gray_image1_arrayR = gray_image1_array.reshape(1, 784)\n",
    "#  #반전된 이미지\n",
    "# inverted_gray_image1 = ImageOps.invert(gray_image1)\n",
    "# inverted_gray_image1_array = np.array(inverted_gray_image1)\n",
    "# inverted_gray_image1_arrayR = inverted_gray_image1_array.reshape(1, 784)\n",
    "# #print(gray_image_arrayR)\n",
    "# image_list = [inverted_gray_image1_array, image1_array]\n",
    "# image_listR = [inverted_gray_image1_arrayR, image1_arrayR]\n",
    "\n",
    "# #print(image_array)\n",
    "\n",
    "ImageSetting('1.png', 0)\n",
    "ImageSetting('2.png', 1)\n",
    "pred = model.predict(image_listR[1])\n",
    "print(\"정확도: \",accuracy) #<--- 정확도 출력 방법 찾아보기\n",
    "pd.DataFrame(pred).round(2)\n",
    "#plt.imshow(image_list[0])\n",
    "#print(\"값은: \", 종속)"
   ]
  },
  {
   "cell_type": "code",
   "execution_count": 8,
   "id": "0e447b81",
   "metadata": {},
   "outputs": [
    {
     "data": {
      "text/plain": [
       "<matplotlib.image.AxesImage at 0x2640cebea50>"
      ]
     },
     "execution_count": 8,
     "metadata": {},
     "output_type": "execute_result"
    },
    {
     "data": {
      "image/png": "[encoded data removed]",
      "text/plain": [
       "<Figure size 640x480 with 1 Axes>"
      ]
     },
     "metadata": {},
     "output_type": "display_data"
    }
   ],
   "source": [
    "#print(종속[0:100])\n",
    "plt.imshow(독립[3])\n",
    "#image_arrayR = image_array.reshape(3136, 784)\n",
    "#print(gray_image_array)\n"
   ]
  }
 ],
 "metadata": {
  "kernelspec": {
   "display_name": "Python 3 (ipykernel)",
   "language": "python",
   "name": "python3"
  },
  "language_info": {
   "codemirror_mode": {
    "name": "ipython",
    "version": 3
   },
   "file_extension": ".py",
   "mimetype": "text/x-python",
   "name": "python",
   "nbconvert_exporter": "python",
   "pygments_lexer": "ipython3",
   "version": "3.11.4"
  }
 },
 "nbformat": 4,
 "nbformat_minor": 5
}
