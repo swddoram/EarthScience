{
 "cells": [
  {
   "cell_type": "code",
   "execution_count": 15,
   "metadata": {},
   "outputs": [],
   "source": [
    "import glob\n",
    "import tensorflow as tf\n",
    "import numpy as np\n",
    "\n",
    "# 이미지 파일들의 경로\n",
    "file_paths = glob.glob('./stones_png/*/*.png')  # 실제 이미지 파일이 있는 폴더의 경로로 변경해야 합니다.\n",
    "\n",
    "# 파일 경로를 이미지 데이터셋으로 변환\n",
    "image_dataset = tf.data.Dataset.from_tensor_slices(file_paths)\n",
    "\n",
    "# 이미지 파일을 읽어들이고 전처리하는 함수 정의\n",
    "def preprocess_image(file_path):\n",
    "    image = tf.io.read_file(file_path)\n",
    "    image = tf.image.decode_png(image, channels=3)  # JPEG 이미지일 경우\n",
    "    image = tf.image.resize(image, (224, 224))  # 이미지 크기 조정\n",
    "    image = tf.cast(image, tf.float32) / 255.0  # 이미지 정규화 및 타입 변환\n",
    "    return image\n",
    "\n",
    "# 파일 경로 데이터셋을 이미지 데이터셋으로 변환하고 전처리 적용\n",
    "image_dataset = image_dataset.map(preprocess_image)\n"
   ]
  },
  {
   "cell_type": "code",
   "execution_count": 26,
   "metadata": {},
   "outputs": [],
   "source": [
    "import tensorflow as tf\n",
    "\n",
    "for image in image_dataset.take(1):\n",
    "    input_shape = image.shape  # 가져온 이미지의 형태 확인\n",
    "    break\n",
    "\n",
    "# 이미지 입력을 받도록 변경된 모델\n",
    "\n",
    "# 이미지의 형태 (세로, 가로, 채널)\n",
    "# input_shape = (224, 224, 3)\n",
    "X_input = tf.keras.layers.Input(input_shape=(224,224,3))  # 이미지 입력 레이어\n",
    "\n",
    "# 이미지 처리에 특화된 Convolutional 레이어 추가\n",
    "conv1 = tf.keras.layers.Conv2D(32, (3, 3), activation='relu')(X_input)\n",
    "maxpool1 = tf.keras.layers.MaxPooling2D((2, 2))(conv1)\n",
    "conv2 = tf.keras.layers.Conv2D(64, (3, 3), activation='relu')(maxpool1)\n",
    "maxpool2 = tf.keras.layers.MaxPooling2D((2, 2))(conv2)\n",
    "flatten = tf.keras.layers.Flatten()(maxpool2)\n",
    "\n",
    "# 이후의 Dense 레이어 추가\n",
    "H = tf.keras.layers.Dense(84, activation='swish')(flatten)\n",
    "Y = tf.keras.layers.Dense(2, activation='softmax')(H)\n",
    "\n",
    "# 새로운 모델 정의\n",
    "model = tf.keras.models.Model(X_input, Y)\n",
    "\n",
    "# 모델 컴파일\n",
    "model.compile(loss='sparse_categorical_crossentropy', metrics=['accuracy'])\n"
   ]
  },
  {
   "cell_type": "code",
   "execution_count": 27,
   "metadata": {},
   "outputs": [
    {
     "name": "stdout",
     "output_type": "stream",
     "text": [
      "Epoch 1/10\n"
     ]
    },
    {
     "ename": "ValueError",
     "evalue": "in user code:\n\n    File \"/Users/ddoram/anaconda3/lib/python3.11/site-packages/keras/src/engine/training.py\", line 1377, in train_function  *\n        return step_function(self, iterator)\n    File \"/Users/ddoram/anaconda3/lib/python3.11/site-packages/keras/src/engine/training.py\", line 1360, in step_function  **\n        outputs = model.distribute_strategy.run(run_step, args=(data,))\n    File \"/Users/ddoram/anaconda3/lib/python3.11/site-packages/keras/src/engine/training.py\", line 1349, in run_step  **\n        outputs = model.train_step(data)\n    File \"/Users/ddoram/anaconda3/lib/python3.11/site-packages/keras/src/engine/training.py\", line 1126, in train_step\n        y_pred = self(x, training=True)\n    File \"/Users/ddoram/anaconda3/lib/python3.11/site-packages/keras/src/utils/traceback_utils.py\", line 70, in error_handler\n        raise e.with_traceback(filtered_tb) from None\n    File \"/Users/ddoram/anaconda3/lib/python3.11/site-packages/keras/src/engine/input_spec.py\", line 298, in assert_input_compatibility\n        raise ValueError(\n\n    ValueError: Input 0 of layer \"model_7\" is incompatible with the layer: expected shape=(None, 224, 224, 3), found shape=(224, 224, 3)\n",
     "output_type": "error",
     "traceback": [
      "\u001b[0;31m---------------------------------------------------------------------------\u001b[0m",
      "\u001b[0;31mValueError\u001b[0m                                Traceback (most recent call last)",
      "\u001b[1;32m/Users/ddoram/Documents/GitHub/EarthScience/지구과학발표/GPTCODE.ipynb 셀 3\u001b[0m line \u001b[0;36m2\n\u001b[1;32m      <a href='vscode-notebook-cell:/Users/ddoram/Documents/GitHub/EarthScience/%EC%A7%80%EA%B5%AC%EA%B3%BC%ED%95%99%EB%B0%9C%ED%91%9C/GPTCODE.ipynb#W2sZmlsZQ%3D%3D?line=0'>1</a>\u001b[0m \u001b[39m# 모델 학습\u001b[39;00m\n\u001b[0;32m----> <a href='vscode-notebook-cell:/Users/ddoram/Documents/GitHub/EarthScience/%EC%A7%80%EA%B5%AC%EA%B3%BC%ED%95%99%EB%B0%9C%ED%91%9C/GPTCODE.ipynb#W2sZmlsZQ%3D%3D?line=1'>2</a>\u001b[0m model\u001b[39m.\u001b[39mfit(image_dataset, epochs\u001b[39m=\u001b[39m\u001b[39m10\u001b[39m)\n",
      "File \u001b[0;32m~/anaconda3/lib/python3.11/site-packages/keras/src/utils/traceback_utils.py:70\u001b[0m, in \u001b[0;36mfilter_traceback.<locals>.error_handler\u001b[0;34m(*args, **kwargs)\u001b[0m\n\u001b[1;32m     67\u001b[0m     filtered_tb \u001b[39m=\u001b[39m _process_traceback_frames(e\u001b[39m.\u001b[39m__traceback__)\n\u001b[1;32m     68\u001b[0m     \u001b[39m# To get the full stack trace, call:\u001b[39;00m\n\u001b[1;32m     69\u001b[0m     \u001b[39m# `tf.debugging.disable_traceback_filtering()`\u001b[39;00m\n\u001b[0;32m---> 70\u001b[0m     \u001b[39mraise\u001b[39;00m e\u001b[39m.\u001b[39mwith_traceback(filtered_tb) \u001b[39mfrom\u001b[39;00m \u001b[39mNone\u001b[39;00m\n\u001b[1;32m     71\u001b[0m \u001b[39mfinally\u001b[39;00m:\n\u001b[1;32m     72\u001b[0m     \u001b[39mdel\u001b[39;00m filtered_tb\n",
      "File \u001b[0;32m/var/folders/5v/s8jz2qxx3g9fbnv9zm5_87q40000gn/T/__autograph_generated_fileit9kshge.py:15\u001b[0m, in \u001b[0;36mouter_factory.<locals>.inner_factory.<locals>.tf__train_function\u001b[0;34m(iterator)\u001b[0m\n\u001b[1;32m     13\u001b[0m \u001b[39mtry\u001b[39;00m:\n\u001b[1;32m     14\u001b[0m     do_return \u001b[39m=\u001b[39m \u001b[39mTrue\u001b[39;00m\n\u001b[0;32m---> 15\u001b[0m     retval_ \u001b[39m=\u001b[39m ag__\u001b[39m.\u001b[39mconverted_call(ag__\u001b[39m.\u001b[39mld(step_function), (ag__\u001b[39m.\u001b[39mld(\u001b[39mself\u001b[39m), ag__\u001b[39m.\u001b[39mld(iterator)), \u001b[39mNone\u001b[39;00m, fscope)\n\u001b[1;32m     16\u001b[0m \u001b[39mexcept\u001b[39;00m:\n\u001b[1;32m     17\u001b[0m     do_return \u001b[39m=\u001b[39m \u001b[39mFalse\u001b[39;00m\n",
      "\u001b[0;31mValueError\u001b[0m: in user code:\n\n    File \"/Users/ddoram/anaconda3/lib/python3.11/site-packages/keras/src/engine/training.py\", line 1377, in train_function  *\n        return step_function(self, iterator)\n    File \"/Users/ddoram/anaconda3/lib/python3.11/site-packages/keras/src/engine/training.py\", line 1360, in step_function  **\n        outputs = model.distribute_strategy.run(run_step, args=(data,))\n    File \"/Users/ddoram/anaconda3/lib/python3.11/site-packages/keras/src/engine/training.py\", line 1349, in run_step  **\n        outputs = model.train_step(data)\n    File \"/Users/ddoram/anaconda3/lib/python3.11/site-packages/keras/src/engine/training.py\", line 1126, in train_step\n        y_pred = self(x, training=True)\n    File \"/Users/ddoram/anaconda3/lib/python3.11/site-packages/keras/src/utils/traceback_utils.py\", line 70, in error_handler\n        raise e.with_traceback(filtered_tb) from None\n    File \"/Users/ddoram/anaconda3/lib/python3.11/site-packages/keras/src/engine/input_spec.py\", line 298, in assert_input_compatibility\n        raise ValueError(\n\n    ValueError: Input 0 of layer \"model_7\" is incompatible with the layer: expected shape=(None, 224, 224, 3), found shape=(224, 224, 3)\n"
     ]
    }
   ],
   "source": [
    "# 모델 학습\n",
    "model.fit(image_dataset, epochs=10)\n"
   ]
  }
 ],
 "metadata": {
  "kernelspec": {
   "display_name": "base",
   "language": "python",
   "name": "python3"
  },
  "language_info": {
   "codemirror_mode": {
    "name": "ipython",
    "version": 3
   },
   "file_extension": ".py",
   "mimetype": "text/x-python",
   "name": "python",
   "nbconvert_exporter": "python",
   "pygments_lexer": "ipython3",
   "version": "3.11.5"
  }
 },
 "nbformat": 4,
 "nbformat_minor": 2
}
